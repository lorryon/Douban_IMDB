{
 "cells": [
  {
   "cell_type": "markdown",
   "metadata": {},
   "source": [
    "## 1. Project Overview\n",
    "\n",
    "### 1.1 Background\n",
    "-  Booming Chinese movie industry: In the first quarter of 2018, its box office has just overtaken North America (US and Canada combined).\n",
    "-  American movie industry is trying to tap into Chinese market, but results have been mixed. Example: Black Panther vs Transformers 5: The Last Knight.\n",
    "\n",
    "\n",
    "### 1.2 Purpose of the project\n",
    "-  Predict Chinese box office and movie review based on a series of movie characteristics, including *movie genre, movie release year, director and cast popularity, budget, US review count, US IMDB review score, US domestic box office*\n",
    "\n",
    "## 2. Data source\n",
    "\n",
    "### 2.1 Webscapping\n",
    "-  Review data for 7000 movies and TV series scraped from __[IMDB](http://www.imdb.com)__ and __[Douban](http://movie.douban.com/)__, which represent American and Chinese viewers' preferences respectively. \n",
    "-  Box office data from __[box office mojo](https://www.boxofficemojo.com/)__, which includes both U.S. domestic and Chinese box office. \n",
    "-  Directors and lead cast followers scraped from __[Douban](http://movie.douban.com/)__, which represents cast popularity in China. \n",
    "-  Web scrapping was conducted using *__Requests__* package and parsed with *__BeautifulSoup__*.\n",
    "-  Scraped data was stored in sqlite database.\n",
    "\n",
    "### 2.2 Extracted features\n",
    "-  Review counts from Douban and IMDB: *DBreview_count*, *IMDBreview_count*\n",
    "-  Average review score from Douban and IMDB: *DBratings*, *IMDBratingUS*\n",
    "-  Box office in U.S. and Chinese market: *Box office domestic*, *Box office CN*\n",
    "-  Movie genre (one-hot coded)\n",
    "-  Movie release year: *USrelease*\n",
    "-  Budget: *budget*\n",
    "-  Director and lead cast followers: *DR_DB_Followers*, *CAST_DB_Followers*\n",
    "\n",
    "## 3. Data analysis\n",
    "### 3.1 Data processing\n",
    "-  [Data cleaning](#3.1.1)\n",
    "-  [Currency inflation adjustment](#3.1.2)\n",
    "-  [Missing data](#3.1.3)\n",
    "\n",
    "### 3.2 Descriptive analysis\n",
    "-  [Bivariate scatterplot](#3.2.1)\n",
    "-  [Multivariate interaction](#3.2.2)\n",
    "-  [Transformation](#3.2.3)\n",
    "\n",
    "## 4. Predictive analysis\n",
    "### 4.1 Prediction of Chinese viewer rating\n",
    "-  [Feature scaling](#4.1.1)\n",
    "-  [Building pipeline](#4.1.2)\n",
    "-  [Regression with linear model and decision tree model](#4.1.3)\n",
    "### 4.2 Prediction of Chinese box office\n",
    "-  [Feature scaling](#4.2.1)\n",
    "-  [Building pipeline](#4.2.2)\n",
    "-  [Regression with linear model and decision tree model](#4.2.3)"
   ]
  },
  {
   "cell_type": "code",
   "execution_count": 1,
   "metadata": {},
   "outputs": [],
   "source": [
    "import pandas as pd\n",
    "import numpy as np\n",
    "import matplotlib.pyplot as plt\n",
    "import seaborn as sns\n",
    "%matplotlib inline"
   ]
  },
  {
   "cell_type": "markdown",
   "metadata": {},
   "source": [
    "##  3. Data Analysis\n",
    "\n",
    "### 3.1 Data processing"
   ]
  },
  {
   "cell_type": "code",
   "execution_count": 2,
   "metadata": {
    "scrolled": true
   },
   "outputs": [
    {
     "data": {
      "text/html": [
       "<div>\n",
       "<style scoped>\n",
       "    .dataframe tbody tr th:only-of-type {\n",
       "        vertical-align: middle;\n",
       "    }\n",
       "\n",
       "    .dataframe tbody tr th {\n",
       "        vertical-align: top;\n",
       "    }\n",
       "\n",
       "    .dataframe thead th {\n",
       "        text-align: right;\n",
       "    }\n",
       "</style>\n",
       "<table border=\"1\" class=\"dataframe\">\n",
       "  <thead>\n",
       "    <tr style=\"text-align: right;\">\n",
       "      <th></th>\n",
       "      <th>DBrating</th>\n",
       "      <th>IMDBratingUS</th>\n",
       "      <th>IMDBrating</th>\n",
       "      <th>DBreview_count</th>\n",
       "      <th>IMDBreview_count</th>\n",
       "      <th>Genre</th>\n",
       "      <th>Title</th>\n",
       "      <th>Directors</th>\n",
       "      <th>Casts</th>\n",
       "      <th>Box office domestic</th>\n",
       "      <th>...</th>\n",
       "      <th>Western</th>\n",
       "      <th>News</th>\n",
       "      <th>War</th>\n",
       "      <th>Comedy</th>\n",
       "      <th>Sport</th>\n",
       "      <th>Sci-Fi</th>\n",
       "      <th>Biography</th>\n",
       "      <th>Crime</th>\n",
       "      <th>Drama</th>\n",
       "      <th>All Genre</th>\n",
       "    </tr>\n",
       "  </thead>\n",
       "  <tbody>\n",
       "    <tr>\n",
       "      <th>0</th>\n",
       "      <td>8.2</td>\n",
       "      <td>8.1</td>\n",
       "      <td>8.0</td>\n",
       "      <td>246840</td>\n",
       "      <td>147449</td>\n",
       "      <td>Action/Adventure/Thriller/</td>\n",
       "      <td>Mission: Impossible - Fallout</td>\n",
       "      <td>Christopher McQuarrie</td>\n",
       "      <td>Tom Cruise/Henry Cavill/Ving Rhames/Simon Pegg/</td>\n",
       "      <td>220159104.0</td>\n",
       "      <td>...</td>\n",
       "      <td>False</td>\n",
       "      <td>False</td>\n",
       "      <td>False</td>\n",
       "      <td>False</td>\n",
       "      <td>False</td>\n",
       "      <td>False</td>\n",
       "      <td>False</td>\n",
       "      <td>False</td>\n",
       "      <td>False</td>\n",
       "      <td>True</td>\n",
       "    </tr>\n",
       "    <tr>\n",
       "      <th>1</th>\n",
       "      <td>7.4</td>\n",
       "      <td>7.4</td>\n",
       "      <td>7.2</td>\n",
       "      <td>187869</td>\n",
       "      <td>141007</td>\n",
       "      <td>Action/Adventure/Comedy/Sci-Fi/</td>\n",
       "      <td>Ant-Man and the Wasp</td>\n",
       "      <td>Peyton Reed</td>\n",
       "      <td>Paul Rudd/Evangeline Lilly/Michael Peña/Walton...</td>\n",
       "      <td>216648740.0</td>\n",
       "      <td>...</td>\n",
       "      <td>False</td>\n",
       "      <td>False</td>\n",
       "      <td>False</td>\n",
       "      <td>True</td>\n",
       "      <td>False</td>\n",
       "      <td>True</td>\n",
       "      <td>False</td>\n",
       "      <td>False</td>\n",
       "      <td>False</td>\n",
       "      <td>True</td>\n",
       "    </tr>\n",
       "    <tr>\n",
       "      <th>2</th>\n",
       "      <td>6.3</td>\n",
       "      <td>6.2</td>\n",
       "      <td>6.1</td>\n",
       "      <td>22171</td>\n",
       "      <td>24070</td>\n",
       "      <td>Action/Adventure/Comedy/</td>\n",
       "      <td>The Spy Who Dumped Me</td>\n",
       "      <td>Susanna Fogel</td>\n",
       "      <td>Justin Theroux/Blanka Györfi-Tóth/Vilma Szécsi...</td>\n",
       "      <td>33562069.0</td>\n",
       "      <td>...</td>\n",
       "      <td>False</td>\n",
       "      <td>False</td>\n",
       "      <td>False</td>\n",
       "      <td>True</td>\n",
       "      <td>False</td>\n",
       "      <td>False</td>\n",
       "      <td>False</td>\n",
       "      <td>False</td>\n",
       "      <td>False</td>\n",
       "      <td>True</td>\n",
       "    </tr>\n",
       "    <tr>\n",
       "      <th>3</th>\n",
       "      <td>9.4</td>\n",
       "      <td>8.7</td>\n",
       "      <td>8.8</td>\n",
       "      <td>933844</td>\n",
       "      <td>1532393</td>\n",
       "      <td>Drama/Romance/</td>\n",
       "      <td>Forrest Gump</td>\n",
       "      <td>Robert Zemeckis</td>\n",
       "      <td>Tom Hanks/Robin Wright/Gary Sinise/Sally Field/</td>\n",
       "      <td>329694499.0</td>\n",
       "      <td>...</td>\n",
       "      <td>False</td>\n",
       "      <td>False</td>\n",
       "      <td>False</td>\n",
       "      <td>False</td>\n",
       "      <td>False</td>\n",
       "      <td>False</td>\n",
       "      <td>False</td>\n",
       "      <td>False</td>\n",
       "      <td>True</td>\n",
       "      <td>True</td>\n",
       "    </tr>\n",
       "    <tr>\n",
       "      <th>4</th>\n",
       "      <td>9.3</td>\n",
       "      <td>8.7</td>\n",
       "      <td>8.8</td>\n",
       "      <td>953369</td>\n",
       "      <td>1760580</td>\n",
       "      <td>Action/Adventure/Sci-Fi/Thriller/</td>\n",
       "      <td>Inception</td>\n",
       "      <td>Christopher Nolan</td>\n",
       "      <td>Leonardo DiCaprio/Joseph Gordon-Levitt/Ellen P...</td>\n",
       "      <td>292576195.0</td>\n",
       "      <td>...</td>\n",
       "      <td>False</td>\n",
       "      <td>False</td>\n",
       "      <td>False</td>\n",
       "      <td>False</td>\n",
       "      <td>False</td>\n",
       "      <td>True</td>\n",
       "      <td>False</td>\n",
       "      <td>False</td>\n",
       "      <td>False</td>\n",
       "      <td>True</td>\n",
       "    </tr>\n",
       "  </tbody>\n",
       "</table>\n",
       "<p>5 rows × 44 columns</p>\n",
       "</div>"
      ],
      "text/plain": [
       "   DBrating  IMDBratingUS  IMDBrating  DBreview_count  IMDBreview_count  \\\n",
       "0       8.2           8.1         8.0          246840            147449   \n",
       "1       7.4           7.4         7.2          187869            141007   \n",
       "2       6.3           6.2         6.1           22171             24070   \n",
       "3       9.4           8.7         8.8          933844           1532393   \n",
       "4       9.3           8.7         8.8          953369           1760580   \n",
       "\n",
       "                               Genre                          Title  \\\n",
       "0         Action/Adventure/Thriller/  Mission: Impossible - Fallout   \n",
       "1    Action/Adventure/Comedy/Sci-Fi/           Ant-Man and the Wasp   \n",
       "2           Action/Adventure/Comedy/          The Spy Who Dumped Me   \n",
       "3                     Drama/Romance/                   Forrest Gump   \n",
       "4  Action/Adventure/Sci-Fi/Thriller/                      Inception   \n",
       "\n",
       "               Directors                                              Casts  \\\n",
       "0  Christopher McQuarrie    Tom Cruise/Henry Cavill/Ving Rhames/Simon Pegg/   \n",
       "1            Peyton Reed  Paul Rudd/Evangeline Lilly/Michael Peña/Walton...   \n",
       "2          Susanna Fogel  Justin Theroux/Blanka Györfi-Tóth/Vilma Szécsi...   \n",
       "3        Robert Zemeckis    Tom Hanks/Robin Wright/Gary Sinise/Sally Field/   \n",
       "4      Christopher Nolan  Leonardo DiCaprio/Joseph Gordon-Levitt/Ellen P...   \n",
       "\n",
       "   Box office domestic    ...      Western   News    War Comedy  Sport Sci-Fi  \\\n",
       "0          220159104.0    ...        False  False  False  False  False  False   \n",
       "1          216648740.0    ...        False  False  False   True  False   True   \n",
       "2           33562069.0    ...        False  False  False   True  False  False   \n",
       "3          329694499.0    ...        False  False  False  False  False  False   \n",
       "4          292576195.0    ...        False  False  False  False  False   True   \n",
       "\n",
       "   Biography  Crime  Drama  All Genre  \n",
       "0      False  False  False       True  \n",
       "1      False  False  False       True  \n",
       "2      False  False  False       True  \n",
       "3      False  False   True       True  \n",
       "4      False  False  False       True  \n",
       "\n",
       "[5 rows x 44 columns]"
      ]
     },
     "execution_count": 2,
     "metadata": {},
     "output_type": "execute_result"
    }
   ],
   "source": [
    "# Load data \n",
    "df=pd.read_csv('Cleaned_data_new.csv')\n",
    "# Examine columns and column types\n",
    "# print(df.dtypes)\n",
    "df.head()"
   ]
  },
  {
   "cell_type": "markdown",
   "metadata": {},
   "source": [
    "<a id=\"3.1.1\"></a>\n",
    "Some variables do not have known values from the website. Webscrapping returned some characters other than NaN for these values. I first changed these missing values to NaN."
   ]
  },
  {
   "cell_type": "code",
   "execution_count": 3,
   "metadata": {},
   "outputs": [],
   "source": [
    "# change budget zero values to NaN\n",
    "df['budget'].replace(to_replace=0,value=np.nan,inplace=True)\n",
    "\n",
    "# change NA values in DR_DB_followers and CAST_DB_followers\n",
    "cols = ['DR_DB_Followers', 'CAST_DB_Followers']\n",
    "df.loc[:,cols]= df.loc[:,cols].replace(to_replace=r'^Directors',value=np.nan,regex=True)\n",
    "df['DR_DB_Followers']=pd.to_numeric(df['DR_DB_Followers'],errors='coerse')\n",
    "df['CAST_DB_Followers']=pd.to_numeric(df['CAST_DB_Followers'],errors='coerse')"
   ]
  },
  {
   "cell_type": "markdown",
   "metadata": {},
   "source": [
    "As there are more than 20 types of genres, and some genres are very rare, I will only analyze genres that exist in more than 10% movies."
   ]
  },
  {
   "cell_type": "code",
   "execution_count": 4,
   "metadata": {},
   "outputs": [],
   "source": [
    "# Convert Genre type to 0/1\n",
    "genre_type=['Thriller', 'Musical', 'Mystery',\n",
    "             'Adventure','Drama', 'News', 'Film-Noir', 'Family', 'Animation', 'Short', 'Sport',\n",
    "             'Crime', 'Biography', 'Comedy', 'Game-Show', 'Music', 'War', 'Romance','Fantasy', \n",
    "             'History', 'Horror', 'Sci-Fi', 'Documentary', 'Western','Action', 'Adult', 'Reality-TV']\n",
    "df[genre_type] = df[genre_type].astype(int)\n",
    "\n",
    "# Delete rare genre type: delete if exists in <10% movies\n",
    "genre_mean = df[genre_type].mean()\n",
    "popular_genre = genre_mean.index[genre_mean>=0.1].tolist()"
   ]
  },
  {
   "cell_type": "markdown",
   "metadata": {},
   "source": [
    "The movie release year from webscrapping is not in clean format. I extract the year information from webscapped results."
   ]
  },
  {
   "cell_type": "code",
   "execution_count": 5,
   "metadata": {},
   "outputs": [],
   "source": [
    "# Extract year of release\n",
    "year_regex = '(20[0-9][0-9])|(19[0-9][0-9])'\n",
    "\n",
    "def extract(x):\n",
    "    try:\n",
    "        return list(filter(lambda m:m!='',x[-1]))[0]\n",
    "    except:\n",
    "        return None  \n",
    "df['USrelease'] = df['USrelease'].str.findall(year_regex,flags=0).apply(extract)\n",
    "df['USrelease'] = pd.to_numeric(df['USrelease'], errors='coerce')"
   ]
  },
  {
   "cell_type": "markdown",
   "metadata": {},
   "source": [
    "<a id=\"3.1.2\"></a>\n",
    "Box office and budget from different years are influenced by currency inflation, so I adjusted for the inflation such that they can be compared across movies in different years. \n",
    "<bk>\n",
    "To adjust for inflation, I downloaded the annual average inflation rate from __[inflationdata website](https://inflationdata.com/inflation/Inflation_Rate/HistoricalInflation.aspx)__ and computed the cummulative inflation rate from year 1914 to 2018. Using the year 2000 as the reference year, I transformed the box office and budget values to the US dollar value in 2000. "
   ]
  },
  {
   "cell_type": "code",
   "execution_count": 6,
   "metadata": {},
   "outputs": [],
   "source": [
    "# read in inflation data\n",
    "inflation = pd.read_csv('CurrencyInflationAdjust.csv') \n",
    "\n",
    "# Corrected box office and budget based on currency inflation \n",
    "df = df.merge(inflation, left_on='USrelease', right_on='Year', how='left') \n",
    "df['budget'] = df['budget'] * df['Multiplier']\n",
    "df['Box office domestic'] = df['Box office domestic'] * df['Multiplier']\n",
    "df['Box office CN'] = df['Box office CN'] * df['Multiplier']\n",
    "df['Box office foreign'] = df['Box office foreign'] * df['Multiplier']"
   ]
  },
  {
   "cell_type": "markdown",
   "metadata": {},
   "source": [
    "<a id=\"3.1.3\"></a>\n",
    "Missing rate in each variable"
   ]
  },
  {
   "cell_type": "code",
   "execution_count": 7,
   "metadata": {
    "scrolled": true
   },
   "outputs": [
    {
     "data": {
      "text/plain": [
       "Box office CN          0.867441\n",
       "Box office foreign     0.485002\n",
       "budget                 0.216497\n",
       "DR_DB_Followers        0.115868\n",
       "CAST_DB_Followers      0.022496\n",
       "Box office domestic    0.001693\n",
       "USrelease              0.000242\n",
       "dtype: float64"
      ]
     },
     "execution_count": 7,
     "metadata": {},
     "output_type": "execute_result"
    }
   ],
   "source": [
    "colSelect = ['DBrating','Box office CN','IMDBratingUS','Box office domestic', 'Box office foreign',\n",
    "             'DBreview_count','IMDBreview_count', 'budget','USrelease',\n",
    "             'DR_DB_Followers', 'CAST_DB_Followers']+ popular_genre\n",
    "df_na = df[colSelect].isnull().sum()/len(df)\n",
    "df_na[df_na.values>0].sort_values(ascending=False)"
   ]
  },
  {
   "cell_type": "markdown",
   "metadata": {},
   "source": [
    "The Chinese box office data is only available in 14% movies. This is not surprising due to Chinese movie industry regulation restrictions in early years. The small sample size will likely lead to poor predictions for Chinese box office, but I still want to conduct some exploratory analysis for now. I will only use the 14% sample for Chinese box office analysis. \n",
    "<bk>\n",
    "For the other variables with missing values, I just fill them with median values."
   ]
  },
  {
   "cell_type": "code",
   "execution_count": 8,
   "metadata": {
    "scrolled": true
   },
   "outputs": [],
   "source": [
    "nanfil_list = list(df.columns)  \n",
    "nanfil_list.remove('Box office CN')\n",
    "nanfil_list.remove('Box office foreign')# Too many missing values for CN and foreign box office\n",
    "df[nanfil_list] = df[nanfil_list].fillna(df[nanfil_list].median())"
   ]
  },
  {
   "cell_type": "markdown",
   "metadata": {},
   "source": [
    "<a id=\"3.2\"></a>\n",
    "### 3.2 Descriptive analysis"
   ]
  },
  {
   "cell_type": "markdown",
   "metadata": {},
   "source": [
    "First, I run descriptive statistics to get an understanding of the range of each variable."
   ]
  },
  {
   "cell_type": "code",
   "execution_count": null,
   "metadata": {},
   "outputs": [],
   "source": [
    "# Descriptive statistics\n",
    "df[colSelect].describe()"
   ]
  },
  {
   "cell_type": "markdown",
   "metadata": {},
   "source": [
    "<a id=\"3.2.1\"></a>\n",
    "To better visualize the distribution of each continuous variable, and their correlation with target variables- review score from douban(*DBrating*) and Chinese box office (*Box office CN*), the scatterplot are made for each continuous variables with the target variables. \n",
    "<bk>\n",
    "As Chinese box office is only available in 14% sample, its relationship with continuous predictors is run a on seperate sample from douban review scores. However, douban review scores showed similar patterns in both samples, so only one scatterplot that includes Chinese box office is shown here."
   ]
  },
  {
   "cell_type": "code",
   "execution_count": 9,
   "metadata": {},
   "outputs": [],
   "source": [
    "df_CN = df[df['Box office CN'].notnull()].copy()"
   ]
  },
  {
   "cell_type": "code",
   "execution_count": null,
   "metadata": {
    "scrolled": true
   },
   "outputs": [],
   "source": [
    "cols = ['Box office CN','DBrating','IMDBratingUS', 'Box office domestic','USrelease','budget',\n",
    "        'DR_DB_Followers', 'CAST_DB_Followers','DBreview_count', 'IMDBreview_count']\n",
    "sns.set(color_codes=True)\n",
    "sns.pairplot(df_CN[cols])"
   ]
  },
  {
   "cell_type": "code",
   "execution_count": null,
   "metadata": {
    "scrolled": true
   },
   "outputs": [],
   "source": [
    "corrmat = df_CN[cols].corr()\n",
    "f, ax = plt.subplots(figsize=(12, 9))\n",
    "sns.heatmap(corrmat, vmax=.8, square=True);"
   ]
  },
  {
   "cell_type": "markdown",
   "metadata": {},
   "source": [
    "Key findings from the scatterplot:\n",
    "-  For Douban review scores:\n",
    "    -  Douban review score is highly correlated with  IMDB review . \n",
    "    -  Review score has an increasing pattern with  review counts, US domestic box office , but has large variance when these variables have small values.\n",
    "    -  Review score has a weak increasing pattern with the  cast popularity : there is a large variance in review scores for low-popularity cast.\n",
    "    -  Review score does not seem to to have a meaningful pattern with  budget  and  release year .\n",
    "-  For Chinese box office:\n",
    "    -  It does not have a linear relationship with  review score  or  budget \n",
    "    -  It seems to have an increasing pattern with  US domestic box office  and  release year \n",
    "    -  It does not have a meaningful pattern with  cast popularity  or  review count "
   ]
  },
  {
   "cell_type": "markdown",
   "metadata": {},
   "source": [
    "<a id=\"3.2.2\"></a>\n",
    "Now I added the categorical variables, *genre type*, to see whether it has any relationship with the target variables, and whether it has an interaction effect with some of the continuous variables.\n",
    "\n",
    "As both douban review score and Chinese box office do not have a clear pattern with budget or cast popularity, which is somewhat unexpected, I looked at the interaction between Top4 most popular genres and budge/cast popularity, to see whether added interaction terms could help form a pattern."
   ]
  },
  {
   "cell_type": "code",
   "execution_count": null,
   "metadata": {},
   "outputs": [],
   "source": [
    "genre_top4 = ['Adventure', 'Sci-Fi', 'Fantasy', 'Action']\n",
    "\n",
    "plt.figure(figsize=(14,14))\n",
    "for i, g in enumerate(genre_top4):\n",
    "    ax1 = plt.subplot(4,3,1+3*i)\n",
    "    sns.scatterplot(x='budget', y='DBrating', hue=g,\n",
    "            data=df, ax=ax1)\n",
    "    ax2 = plt.subplot(4,3,2+3*i)\n",
    "    sns.scatterplot(x='DR_DB_Followers', y='DBrating', hue=g,\n",
    "            data=df, ax=ax2)\n",
    "    ax3 = plt.subplot(4,3,3+3*i)\n",
    "    sns.scatterplot(x='CAST_DB_Followers', y='DBrating', hue=g,\n",
    "            data=df, ax=ax3)\n",
    "plt.tight_layout()"
   ]
  },
  {
   "cell_type": "code",
   "execution_count": null,
   "metadata": {},
   "outputs": [],
   "source": [
    "plt.figure(figsize=(14,14))\n",
    "for i, g in enumerate(genre_top4):\n",
    "    ax1 = plt.subplot(4,3,1+3*i)\n",
    "    sns.scatterplot(x='budget', y='Box office CN', hue=g,\n",
    "            data=df_CN, ax=ax1)\n",
    "    ax2 = plt.subplot(4,3,2+3*i)\n",
    "    sns.scatterplot(x='DR_DB_Followers', y='Box office CN', hue=g,\n",
    "            data=df_CN, ax=ax2)\n",
    "    ax3 = plt.subplot(4,3,3+3*i)\n",
    "    sns.scatterplot(x='CAST_DB_Followers', y='Box office CN', hue=g,\n",
    "            data=df_CN, ax=ax3)\n",
    "plt.tight_layout()"
   ]
  },
  {
   "cell_type": "markdown",
   "metadata": {},
   "source": [
    "There seems to be either no interaction between the genre and budget/cast popularity, or no association between the Top4 genres with  douban review score/Chinese box office. \n",
    "-  This analysis suggests there might be no need to create interaction terms between movie genre and other continuous variables."
   ]
  },
  {
   "cell_type": "markdown",
   "metadata": {},
   "source": [
    "<a id=\"3.2.3\"></a>\n",
    "Exploration of some transformations\n",
    "-  The scatterplot suggests douban rating seems to have a non-linear pattern with US domestic box office and review count. I performed log transformation on the US domestic box and review count.\n",
    "-  I also noticed many variables have skewed distributions. As the purpose here is to make predictions (*which is less affected by the skewness*) instead of making statistical inference or interpretation of the linear regression coefficient(*which are more likely to be affected by the skewness*). I did not perform transformations to correct for skewness."
   ]
  },
  {
   "cell_type": "code",
   "execution_count": null,
   "metadata": {},
   "outputs": [],
   "source": [
    "# Log transformation on US domestic box and review count\n",
    "plt.figure(figsize=(10,4))\n",
    "log_cols = ['Box office domestic', 'IMDBreview_count']\n",
    "df_log = df.copy()\n",
    "df_log[log_cols]=np.log(df_log[log_cols])\n",
    "\n",
    "ax1 = plt.subplot(1,2,1)\n",
    "sns.scatterplot(x=log_cols[0], y='DBrating', data=df_log, ax=ax1)\n",
    "ax2 = plt.subplot(1,2,2)\n",
    "sns.scatterplot(x=log_cols[1], y='DBrating', data=df_log, ax=ax2)\n",
    "plt.tight_layout()"
   ]
  },
  {
   "cell_type": "markdown",
   "metadata": {},
   "source": [
    "Log transformation does not work very well, so I will leave the two variables untransformed and keep in in mind that the linear regression may not work well due to the nonlinear relationship. "
   ]
  },
  {
   "cell_type": "markdown",
   "metadata": {},
   "source": [
    "Outlier Analysis\n",
    "\n",
    "- The scatterplot suggests there are some outliers in many variables, so I plotted boxplot for each variable."
   ]
  },
  {
   "cell_type": "markdown",
   "metadata": {},
   "source": [
    "## 4. Predictive analysis\n",
    "The first objective is prediction of movie ratings of Chinese viewers using budget, director and lead cast followers, IMDB rating and IMDB review count, domestic box office. This represents the senario of a movie that is on screen in US and Chinese viewers have not yet watched the movie. What we're predicting is weather Chinese viewers would like the film.\n",
    "\n",
    "The second objective is prediction of Chinese box office using the same features plut DBrating and DBreview_count. This represents the senario that some viewers have watched the movie through certain sources and we're trying to predict the box office performance using their response. "
   ]
  },
  {
   "cell_type": "code",
   "execution_count": 10,
   "metadata": {},
   "outputs": [],
   "source": [
    "from sklearn.model_selection import GridSearchCV, train_test_split\n",
    "from sklearn.tree import DecisionTreeRegressor\n",
    "from sklearn_features.transformers import DataFrameSelector\n",
    "from sklearn.linear_model import LinearRegression\n",
    "from sklearn.impute import SimpleImputer\n",
    "from sklearn import metrics\n",
    "from sklearn.pipeline import Pipeline"
   ]
  },
  {
   "cell_type": "markdown",
   "metadata": {},
   "source": [
    "### 4.1 Prediction of Chinese viewer rating"
   ]
  },
  {
   "cell_type": "markdown",
   "metadata": {},
   "source": [
    "<a id=\"4.1.1\"></a>"
   ]
  },
  {
   "cell_type": "code",
   "execution_count": null,
   "metadata": {},
   "outputs": [],
   "source": [
    "# Scaling of features\n",
    "df['CAST_DB_Followers'] = df['CAST_DB_Followers']/1000\n",
    "df['DR_DB_Followers'] = df['DR_DB_Followers']/1000\n",
    "df['Box office domestic'] = df['Box office domestic']/10**6\n",
    "df['budget'] = df['budget']/10**6\n",
    "df['IMDBreview_count'] = df['IMDBreview_count']/1000"
   ]
  },
  {
   "cell_type": "markdown",
   "metadata": {},
   "source": [
    "<a id=\"4.1.2\"></a>"
   ]
  },
  {
   "cell_type": "code",
   "execution_count": null,
   "metadata": {},
   "outputs": [],
   "source": [
    "# Split dataset into training and testing set\n",
    "y = df['DBrating'].values\n",
    "X_train, X_test, y_train, y_test = train_test_split(df, y, test_size=0.2, random_state=0)\n",
    "\n",
    "# columns of numerical and categorical values that will be used as features in the model\n",
    "col_num = ['budget', 'IMDBratingUS', 'IMDBreview_count', 'Box office domestic',\n",
    "          'DR_DB_Followers', 'CAST_DB_Followers']\n",
    "col_cat = popular_genre\n",
    "\n",
    "# Build a pipeline that involves selecting the features from the DataFrame, imputation and regression. Two methods were used\n",
    "df_features = DataFrameSelector(col_num+col_cat)\n",
    "imputer = SimpleImputer(strategy='median')\n",
    "TreeRegressor = DecisionTreeRegressor()\n",
    "LNRegressor = LinearRegression()"
   ]
  },
  {
   "cell_type": "markdown",
   "metadata": {},
   "source": [
    "<a id=\"4.1.3\"></a>\n",
    "Prediction with simple linear regression model"
   ]
  },
  {
   "cell_type": "code",
   "execution_count": null,
   "metadata": {},
   "outputs": [],
   "source": [
    "pipe1 = Pipeline([('selector', df_features), ('imputation', imputer), ('regressor', LNRegressor)])\n",
    "pipe1.fit(X_train, y_train)\n",
    "print(\"R_square for training set:\", pipe1.score(X_train, y_train))\n",
    "print(\"R_square for test set:\", pipe1.score(X_test, y_test))"
   ]
  },
  {
   "cell_type": "markdown",
   "metadata": {},
   "source": [
    "Prediction with decision tree model"
   ]
  },
  {
   "cell_type": "code",
   "execution_count": null,
   "metadata": {},
   "outputs": [],
   "source": [
    "pipe2 = Pipeline([('selector', df_features), ('imputation', imputer), ('regressor', TreeRegressor)])\n",
    "pipe2.set_params(regressor__max_depth=8, regressor__min_samples_split=7).fit(X_train, y_train)\n",
    "print(\"R_square for training set:\", pipe2.score(X_train, y_train))\n",
    "print(\"R_square for test set:\", pipe2.score(X_test, y_test))"
   ]
  },
  {
   "cell_type": "markdown",
   "metadata": {},
   "source": [
    "### 4.2 Prediction of Chinese box office"
   ]
  },
  {
   "cell_type": "markdown",
   "metadata": {},
   "source": [
    "<a id=\"4.2.1\"></a>"
   ]
  },
  {
   "cell_type": "code",
   "execution_count": null,
   "metadata": {},
   "outputs": [],
   "source": [
    "# Scaling of features for df_CN\n",
    "df_CN['CAST_DB_Followers'] = df_CN['CAST_DB_Followers']/1000\n",
    "df_CN['DR_DB_Followers'] = df_CN['DR_DB_Followers']/1000\n",
    "df_CN['Box office domestic'] = df_CN['Box office domestic']/10**6\n",
    "df_CN['budget'] = df_CN['budget']/10**6\n",
    "df_CN['IMDBreview_count'] = df_CN['IMDBreview_count']/1000\n",
    "df_CN['DBreview_count'] = df_CN['DBreview_count']/1000\n",
    "df_CN['Box office CN'] = df_CN['Box office CN']/10**6"
   ]
  },
  {
   "cell_type": "markdown",
   "metadata": {},
   "source": [
    "<a id=\"4.2.2\"></a>"
   ]
  },
  {
   "cell_type": "code",
   "execution_count": null,
   "metadata": {},
   "outputs": [],
   "source": [
    "# Split dataset into training and testing set\n",
    "y = df_CN['Box office CN'].values\n",
    "X_train, X_test, y_train, y_test = train_test_split(df_CN, y, test_size=0.2, random_state=0)\n",
    "\n",
    "# columns of numerical and categorical values that will be used as features in the model\n",
    "col_num = ['budget', 'IMDBratingUS', 'IMDBreview_count', 'Box office domestic',\n",
    "          'DR_DB_Followers', 'CAST_DB_Followers', 'DBreview_count', 'DBrating']\n",
    "col_cat = popular_genre\n",
    "\n",
    "# Build a pipeline that involves selecting the features from the DataFrame, imputation and regression. Two methods were used\n",
    "df_features = DataFrameSelector(col_num+col_cat)\n",
    "imputer = SimpleImputer(strategy='median')\n",
    "TreeRegressor = DecisionTreeRegressor()\n",
    "LNRegressor = LinearRegression()"
   ]
  },
  {
   "cell_type": "markdown",
   "metadata": {},
   "source": [
    "<a id=\"4.2.3\"></a>\n",
    "Prediction with simple linear regression model"
   ]
  },
  {
   "cell_type": "code",
   "execution_count": null,
   "metadata": {},
   "outputs": [],
   "source": [
    "pipe1 = Pipeline([('selector', df_features), ('imputation', imputer), ('regressor', LNRegressor)])\n",
    "pipe1.fit(X_train, y_train)\n",
    "print(\"R_square for training set:\", pipe1.score(X_train, y_train))\n",
    "print(\"R_square for test set:\", pipe1.score(X_test, y_test))"
   ]
  },
  {
   "cell_type": "markdown",
   "metadata": {},
   "source": [
    "Prediction with decision tree model"
   ]
  },
  {
   "cell_type": "code",
   "execution_count": null,
   "metadata": {},
   "outputs": [],
   "source": [
    "pipe2 = Pipeline([('selector', df_features), ('imputation', imputer), ('regressor', TreeRegressor)])\n",
    "pipe2.set_params(regressor__max_depth=4, regressor__min_samples_split=2).fit(X_train, y_train)\n",
    "print(\"R_square for training set:\", pipe2.score(X_train, y_train))\n",
    "print(\"R_square for test set:\", pipe2.score(X_test, y_test))"
   ]
  },
  {
   "cell_type": "markdown",
   "metadata": {},
   "source": [
    "### 4.3 Prediction of box office success "
   ]
  },
  {
   "cell_type": "markdown",
   "metadata": {},
   "source": [
    "By calculating the domestic and foreign box office total divided by its production budget, we define the metric used to evaluate the success of a movie in terms of cash revenue. The first attempt is analyze the distribution of this metric across different movies."
   ]
  },
  {
   "cell_type": "code",
   "execution_count": null,
   "metadata": {},
   "outputs": [],
   "source": [
    "df.head()"
   ]
  },
  {
   "cell_type": "code",
   "execution_count": 11,
   "metadata": {
    "scrolled": true
   },
   "outputs": [],
   "source": [
    "df['US_BO/BUD ratio'] = df['Box office domestic']/df['budget']"
   ]
  },
  {
   "cell_type": "code",
   "execution_count": 12,
   "metadata": {},
   "outputs": [
    {
     "data": {
      "text/plain": [
       "count    4134.000000\n",
       "mean        8.463407\n",
       "std       185.697889\n",
       "min         0.000014\n",
       "25%         0.284595\n",
       "50%         0.992136\n",
       "75%         2.228351\n",
       "max      8957.010600\n",
       "Name: US_BO/BUD ratio, dtype: float64"
      ]
     },
     "execution_count": 12,
     "metadata": {},
     "output_type": "execute_result"
    }
   ],
   "source": [
    "df['US_BO/BUD ratio'].describe()  # Some extreme outlier here, possibly faulty box office data"
   ]
  },
  {
   "cell_type": "code",
   "execution_count": 13,
   "metadata": {},
   "outputs": [
    {
     "data": {
      "text/plain": [
       "<matplotlib.axes._subplots.AxesSubplot at 0x1b860d4b978>"
      ]
     },
     "execution_count": 13,
     "metadata": {},
     "output_type": "execute_result"
    },
    {
     "data": {
      "image/png": "[encoded data removed]",
      "text/plain": [
       "<Figure size 432x288 with 1 Axes>"
      ]
     },
     "metadata": {
      "needs_background": "light"
     },
     "output_type": "display_data"
    }
   ],
   "source": [
    "sns.boxplot(x=df['US_BO/BUD ratio'])"
   ]
  },
  {
   "cell_type": "code",
   "execution_count": 14,
   "metadata": {},
   "outputs": [
    {
     "data": {
      "text/plain": [
       "213"
      ]
     },
     "execution_count": 14,
     "metadata": {},
     "output_type": "execute_result"
    }
   ],
   "source": [
    "sum(df['US_BO/BUD ratio'] > 10)"
   ]
  },
  {
   "cell_type": "code",
   "execution_count": 15,
   "metadata": {},
   "outputs": [],
   "source": [
    "df_outlier_removed = df[df['US_BO/BUD ratio'] < 10]"
   ]
  },
  {
   "cell_type": "code",
   "execution_count": 16,
   "metadata": {},
   "outputs": [
    {
     "data": {
      "text/plain": [
       "<matplotlib.axes._subplots.AxesSubplot at 0x1b862df1630>"
      ]
     },
     "execution_count": 16,
     "metadata": {},
     "output_type": "execute_result"
    },
    {
     "data": {
      "image/png": "[encoded data removed]",
      "text/plain": [
       "<Figure size 432x288 with 1 Axes>"
      ]
     },
     "metadata": {
      "needs_background": "light"
     },
     "output_type": "display_data"
    }
   ],
   "source": [
    "sns.boxplot(x=df_outlier_removed['US_BO/BUD ratio'])"
   ]
  },
  {
   "cell_type": "code",
   "execution_count": 17,
   "metadata": {},
   "outputs": [
    {
     "data": {
      "text/plain": [
       "<matplotlib.axes._subplots.AxesSubplot at 0x1b862e50ba8>"
      ]
     },
     "execution_count": 17,
     "metadata": {},
     "output_type": "execute_result"
    },
    {
     "data": {
      "image/png": "[encoded data removed]",
      "text/plain": [
       "<Figure size 432x288 with 1 Axes>"
      ]
     },
     "metadata": {
      "needs_background": "light"
     },
     "output_type": "display_data"
    }
   ],
   "source": [
    "df_outlier_removed['US_BO/BUD ratio'].hist()"
   ]
  },
  {
   "cell_type": "code",
   "execution_count": 18,
   "metadata": {},
   "outputs": [
    {
     "data": {
      "text/plain": [
       "<matplotlib.axes._subplots.AxesSubplot at 0x1b862e503c8>"
      ]
     },
     "execution_count": 18,
     "metadata": {},
     "output_type": "execute_result"
    },
    {
     "data": {
      "image/png": "[encoded data removed]",
      "text/plain": [
       "<Figure size 432x288 with 1 Axes>"
      ]
     },
     "metadata": {
      "needs_background": "light"
     },
     "output_type": "display_data"
    }
   ],
   "source": [
    "np.log(df_outlier_removed['US_BO/BUD ratio']).hist() \n",
    "# log transformation of box office to budget ratio, higher than 0 means the movie is making money"
   ]
  },
  {
   "cell_type": "code",
   "execution_count": 19,
   "metadata": {},
   "outputs": [
    {
     "data": {
      "text/plain": [
       "0.9112144520547945"
      ]
     },
     "execution_count": 19,
     "metadata": {},
     "output_type": "execute_result"
    }
   ],
   "source": [
    "df_outlier_removed['US_BO/BUD ratio'].quantile(0.5)"
   ]
  },
  {
   "cell_type": "markdown",
   "metadata": {},
   "source": [
    "From the exploratory analysis above we can see that Box office domestic over budget ratio is a descripter of how well a movie performs in cash revenue in the domestic market. For foreign market, only 52% of movie entries contain box office information. For Chinese market, 14% entries contain the information. For analyzing the box office performance in foreign market, I decide to focus only on data entries that contains box office information on foreign total and chinese market."
   ]
  },
  {
   "cell_type": "code",
   "execution_count": 20,
   "metadata": {},
   "outputs": [],
   "source": [
    "df_CN['US_BO/BUD ratio'] = df_CN['Box office domestic']/df_CN['budget']\n",
    "df_CN['CN_BO/BUD ratio'] = df_CN['Box office CN']/df_CN['budget']\n",
    "df_CN['FOREIGN_BO/BUD ratio'] = df_CN['Box office foreign']/df_CN['budget']\n",
    "df_CN['US_BO_Pct'] = df_CN['Box office domestic']/(df_CN['Box office domestic'] + df_CN['Box office foreign'])\n",
    "df_CN['CN_BO_Pct'] = df_CN['Box office CN']/(df_CN['Box office domestic'] + df_CN['Box office foreign'])"
   ]
  },
  {
   "cell_type": "code",
   "execution_count": 22,
   "metadata": {},
   "outputs": [
    {
     "data": {
      "text/plain": [
       "<seaborn.axisgrid.FacetGrid at 0x1b862fcab00>"
      ]
     },
     "execution_count": 22,
     "metadata": {},
     "output_type": "execute_result"
    },
    {
     "data": {
      "image/png": "[encoded data removed]",
      "text/plain": [
       "<Figure size 360x360 with 1 Axes>"
      ]
     },
     "metadata": {
      "needs_background": "light"
     },
     "output_type": "display_data"
    }
   ],
   "source": [
    "sns.relplot(x='USrelease', y='US_BO_Pct', data=df_CN)"
   ]
  },
  {
   "cell_type": "code",
   "execution_count": 23,
   "metadata": {},
   "outputs": [
    {
     "data": {
      "text/plain": [
       "<seaborn.axisgrid.FacetGrid at 0x1b862fa4860>"
      ]
     },
     "execution_count": 23,
     "metadata": {},
     "output_type": "execute_result"
    },
    {
     "data": {
      "image/png": "[encoded data removed]",
      "text/plain": [
       "<Figure size 360x360 with 1 Axes>"
      ]
     },
     "metadata": {
      "needs_background": "light"
     },
     "output_type": "display_data"
    }
   ],
   "source": [
    "sns.relplot(x='USrelease', y='CN_BO_Pct', data=df_CN)"
   ]
  },
  {
   "cell_type": "code",
   "execution_count": 26,
   "metadata": {},
   "outputs": [
    {
     "data": {
      "text/plain": [
       "0.11678832116788321"
      ]
     },
     "execution_count": 26,
     "metadata": {},
     "output_type": "execute_result"
    }
   ],
   "source": [
    "sum(df_CN['Box office foreign'].isnull())/len(df_CN)"
   ]
  },
  {
   "cell_type": "code",
   "execution_count": null,
   "metadata": {},
   "outputs": [],
   "source": []
  }
 ],
 "metadata": {
  "kernelspec": {
   "display_name": "Python 3",
   "language": "python",
   "name": "python3"
  },
  "language_info": {
   "codemirror_mode": {
    "name": "ipython",
    "version": 3
   },
   "file_extension": ".py",
   "mimetype": "text/x-python",
   "name": "python",
   "nbconvert_exporter": "python",
   "pygments_lexer": "ipython3",
   "version": "3.7.0"
  }
 },
 "nbformat": 4,
 "nbformat_minor": 2
}
